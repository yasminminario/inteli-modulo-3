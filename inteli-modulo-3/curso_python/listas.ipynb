{
 "cells": [
  {
   "cell_type": "code",
   "execution_count": 20,
   "metadata": {},
   "outputs": [
    {
     "name": "stdout",
     "output_type": "stream",
     "text": [
      "['celular', 'mouse', 'iphone', 'mac']\n"
     ]
    }
   ],
   "source": [
    "produtos = ['tv', 'celular', 'mouse', 'iphone', 'mac']\n",
    "vendas = [1000, 200, 300, 1400]\n",
    "produtos.append('airpods')\n",
    "\n",
    "produtos.remove('tv')\n",
    "\n",
    "produto = produtos.pop(4)\n",
    "\n",
    "# append----> adicionar item no final da lista, o parametro é a propria string\n",
    "# remove----> remover item, o parametro é a propria string\n",
    "# pop----> remover item e armazená-lo em uma variável, o parametro é índice\n",
    "\n",
    "\n",
    "print(produtos)"
   ]
  },
  {
   "cell_type": "code",
   "execution_count": 28,
   "metadata": {},
   "outputs": [
    {
     "name": "stdout",
     "output_type": "stream",
     "text": [
      "o item mais vendido é mac\n",
      "o item menos vendido é mouse\n"
     ]
    }
   ],
   "source": [
    "# len, max e min\n",
    "\n",
    "tamanho = len(produtos)\n",
    "\n",
    "maior = max(vendas)\n",
    "menor = min(vendas)\n",
    "\n",
    "i = vendas.index(maior)\n",
    "item_m = produtos [i]\n",
    "\n",
    "print('o item mais vendido é {}'.format(item_m))\n",
    "\n",
    "\n",
    "i = vendas.index(menor)\n",
    "item_me = produtos [i]\n",
    "\n",
    "print('o item menos vendido é {}'.format(item_me))"
   ]
  },
  {
   "cell_type": "code",
   "execution_count": 3,
   "metadata": {},
   "outputs": [
    {
     "name": "stdout",
     "output_type": "stream",
     "text": [
      "['tv', 'celular', 'mouse', 'iphone', 'mac', 'iphone 12', 'iphone 11']\n"
     ]
    }
   ],
   "source": [
    "# método extend (para juntar duas listas)\n",
    "# para juntar duas listas, também pode se usar simplesmente o operador +\n",
    "\n",
    "produtes = ['tv', 'celular', 'mouse', 'iphone', 'mac']\n",
    "noves_produtes = ['iphone 12', 'iphone 11']\n",
    "produtes.extend(noves_produtes)\n",
    "print(produtes)\n",
    "\n",
    "\n",
    "#não se pode usar o método append para juntar duas listas, pois ele vai adiconar em formato de lista (com os colchetes), e a lista que estará dentro será vista como apenas um índice"
   ]
  },
  {
   "cell_type": "code",
   "execution_count": 10,
   "metadata": {},
   "outputs": [
    {
     "name": "stdout",
     "output_type": "stream",
     "text": [
      "35000\n",
      "['tv', 'mouse', 'mac', 'iphone', 'celular']\n"
     ]
    }
   ],
   "source": [
    "# para somar valores de listas diferentes:\n",
    "\n",
    "lista1 = [15000]\n",
    "lista2 = [20000]\n",
    "\n",
    "print(lista1[0] + lista2[0])\n",
    "\n",
    "\n",
    "\n",
    "# para ordenar uma lista em ordem alfabética (python coloca letras maiúsculas primeiro que as minúsculas)\n",
    "produtus = ['tv', 'celular', 'mouse', 'iphone', 'mac']\n",
    "produtus.sort(reverse = True)\n",
    "print(produtus)\n"
   ]
  },
  {
   "cell_type": "code",
   "execution_count": 31,
   "metadata": {},
   "outputs": [
    {
     "name": "stdout",
     "output_type": "stream",
     "text": [
      "tv\n",
      "celular\n",
      "mouse\n",
      "iphone\n",
      "mac\n",
      "tv, celular, mouse, iphone, mac\n",
      "['tv', 'celular', 'mouse', 'iphone', 'mac']\n"
     ]
    }
   ],
   "source": [
    "# método join para printar itens da lista\n",
    "produtess = ['tv', 'celular', 'mouse', 'iphone', 'mac']\n",
    "print('\\n'.join(produtess))\n",
    "print(', '.join(produtess))\n",
    "\n",
    "# método split\n",
    "produtesss = 'tv, celular, mouse, iphone, mac'\n",
    "lista = produtesss.split(', ')\n",
    "print(lista)"
   ]
  },
  {
   "cell_type": "code",
   "execution_count": 38,
   "metadata": {},
   "outputs": [
    {
     "name": "stdout",
     "output_type": "stream",
     "text": [
      "['tv', 'celular', 'mouse', 'iphone', 'mac']\n"
     ]
    }
   ],
   "source": [
    "# para copiar uma lista, com os seguintes métodds, todas as alterações feitas na lista produtes1 não irão afetar produtes2 e produtes3\n",
    "produtes1 = ['tv', 'celular', 'mouse', 'iphone', 'mac']\n",
    "produtes2 = produtes1 [:]\n",
    "produtes3 = produtes1.copy()\n",
    "\n",
    "print(produtes2)"
   ]
  },
  {
   "cell_type": "code",
   "execution_count": 45,
   "metadata": {},
   "outputs": [
    {
     "name": "stdout",
     "output_type": "stream",
     "text": [
      "300\n",
      "200\n",
      "700\n",
      "[[100, 200, 10], [300, 500, 20]]\n"
     ]
    }
   ],
   "source": [
    "# lista de uma lista\n",
    "vendedores = ['lira', 'joao']\n",
    "produtors = ['ipad', 'iphone']\n",
    "vendes = [\n",
    "    [100, 200],\n",
    "    [300, 500],\n",
    "]\n",
    "\n",
    "vendas_ipad_joao = vendes[1][0]\n",
    "vendas_iphone_lira = vendes[0][1]\n",
    "\n",
    "total_iphone = vendes [0][1] + vendes [1][1]\n",
    "\n",
    "print(vendas_ipad_joao)\n",
    "print(vendas_iphone_lira)\n",
    "print(total_iphone)\n",
    "\n",
    "vendes_mac = [10, 20]\n",
    "vendes[0].append(vendes_mac[0])\n",
    "vendes[1].append(vendes_mac[1])\n",
    "print(vendes)"
   ]
  }
 ],
 "metadata": {
  "kernelspec": {
   "display_name": "Python 3",
   "language": "python",
   "name": "python3"
  },
  "language_info": {
   "codemirror_mode": {
    "name": "ipython",
    "version": 3
   },
   "file_extension": ".py",
   "mimetype": "text/x-python",
   "name": "python",
   "nbconvert_exporter": "python",
   "pygments_lexer": "ipython3",
   "version": "3.12.5"
  }
 },
 "nbformat": 4,
 "nbformat_minor": 2
}
