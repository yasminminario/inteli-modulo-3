{
 "cells": [
  {
   "cell_type": "code",
   "execution_count": 1,
   "metadata": {},
   "outputs": [],
   "source": [
    "# while condicao:\n",
    "#    repete o codigo"
   ]
  },
  {
   "cell_type": "code",
   "execution_count": 6,
   "metadata": {},
   "outputs": [
    {
     "name": "stdout",
     "output_type": "stream",
     "text": [
      "['arroz', 'frango', 'cenoura', 'feijao', 'macarrao', 'salada']\n"
     ]
    }
   ],
   "source": [
    "venda = input ('produto')\n",
    "vendas = []\n",
    "\n",
    "while venda != '':\n",
    "    vendas.append(venda) \n",
    "    venda = input('produto')\n",
    "        \n",
    "print(vendas)"
   ]
  },
  {
   "cell_type": "code",
   "execution_count": 12,
   "metadata": {},
   "outputs": [
    {
     "name": "stdout",
     "output_type": "stream",
     "text": [
      "antonio\n",
      "maria\n",
      "paulo\n",
      "roberta\n"
     ]
    }
   ],
   "source": [
    "# problema do loop infinito\n",
    "\n",
    "vendas = [9434, 5998, 4897, 4358, 1409, 905, 448]\n",
    "vendedores = ['antonio', 'maria', 'paulo', 'roberta', 'yaya', 'gustavo', 'julia']\n",
    "meta = 4000\n",
    "\n",
    "i = 0\n",
    "\n",
    "while vendas[i] > meta:\n",
    "    print(vendedores[i])\n",
    "    i += 1 # se nao colocar essa linha de código, haverá um print infinito\n",
    "\n"
   ]
  }
 ],
 "metadata": {
  "kernelspec": {
   "display_name": "Python 3",
   "language": "python",
   "name": "python3"
  },
  "language_info": {
   "codemirror_mode": {
    "name": "ipython",
    "version": 3
   },
   "file_extension": ".py",
   "mimetype": "text/x-python",
   "name": "python",
   "nbconvert_exporter": "python",
   "pygments_lexer": "ipython3",
   "version": "3.12.3"
  }
 },
 "nbformat": 4,
 "nbformat_minor": 2
}
