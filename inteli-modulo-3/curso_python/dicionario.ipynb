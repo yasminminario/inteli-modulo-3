{
 "cells": [
  {
   "cell_type": "code",
   "execution_count": 5,
   "metadata": {},
   "outputs": [
    {
     "name": "stdout",
     "output_type": "stream",
     "text": [
      "15000\n",
      "12000\n"
     ]
    }
   ],
   "source": [
    "# dicionarioss\n",
    "\n",
    "mais_vendidos = {'tecnologia': 'iphone',\n",
    "                 'refrigeração': 'ar consul 12000 btu',\n",
    "                 'livros': 'o alquimista',\n",
    "                 'eletrodomestico': 'geladeira'}\n",
    "vendas_tecnologia = {'iphone': 15000,\n",
    "                     'samsung galaxy': 12000,\n",
    "                     'tv samsung': 10000}\n",
    "\n",
    "print(vendas_tecnologia['iphone'])\n",
    "print(vendas_tecnologia.get('samsung galaxy'))\n",
    "\n",
    "# quando nao tem a chave no metodo get, ele da 'none', mas quando é nas [], ele da erro\n",
    "\n"
   ]
  },
  {
   "cell_type": "code",
   "execution_count": 10,
   "metadata": {},
   "outputs": [
    {
     "ename": "KeyError",
     "evalue": "'tecnologia'",
     "output_type": "error",
     "traceback": [
      "\u001b[1;31m---------------------------------------------------------------------------\u001b[0m",
      "\u001b[1;31mKeyError\u001b[0m                                  Traceback (most recent call last)",
      "Cell \u001b[1;32mIn[10], line 21\u001b[0m\n\u001b[0;32m     18\u001b[0m mais_vendidos[\u001b[38;5;124m'\u001b[39m\u001b[38;5;124mtecnologia\u001b[39m\u001b[38;5;124m'\u001b[39m] \u001b[38;5;241m=\u001b[39m \u001b[38;5;124m'\u001b[39m\u001b[38;5;124mipad\u001b[39m\u001b[38;5;124m'\u001b[39m \u001b[38;5;66;03m# modificar\u001b[39;00m\n\u001b[0;32m     20\u001b[0m \u001b[38;5;28;01mdel\u001b[39;00m mais_vendidos [\u001b[38;5;124m'\u001b[39m\u001b[38;5;124mtecnologia\u001b[39m\u001b[38;5;124m'\u001b[39m] \u001b[38;5;66;03m# deletar --> diferente do dicionario.clear() --> esse metodo limpa o dicionario, apagando todos os itens, mas o dicionario ainda existe\u001b[39;00m\n\u001b[1;32m---> 21\u001b[0m tec_iphone \u001b[38;5;241m=\u001b[39m \u001b[43mmais_vendidos\u001b[49m\u001b[38;5;241;43m.\u001b[39;49m\u001b[43mpop\u001b[49m\u001b[43m(\u001b[49m\u001b[38;5;124;43m'\u001b[39;49m\u001b[38;5;124;43mtecnologia\u001b[39;49m\u001b[38;5;124;43m'\u001b[39;49m\u001b[43m)\u001b[49m \u001b[38;5;66;03m# deletar mas armazenando em uma variavel\u001b[39;00m\n",
      "\u001b[1;31mKeyError\u001b[0m: 'tecnologia'"
     ]
    }
   ],
   "source": [
    "# adicionar, remover e modificar\n",
    "\n",
    "# dicionario = {}\n",
    "# dicionario[chave] = valor\n",
    "# dicionario.update({chave: valor, chave: valor})  --> adicionar varios itens de uma vez ou somar dois dicionários\n",
    "\n",
    "mais_vendidos = {'tecnologia': 'iphone',\n",
    "                 'refrigeração': 'ar consul 12000 btu',\n",
    "                 'livros': 'o alquimista',\n",
    "                 'eletrodomestico': 'geladeira'}\n",
    "vendas_tecnologia = {'iphone': 15000,\n",
    "                     'samsung galaxy': 12000,\n",
    "                     'tv samsung': 10000}\n",
    "\n",
    "mais_vendidos['comida'] = 'arroz' # adicionar\n",
    "mais_vendidos.update(vendas_tecnologia) # adicionar dois dicio\n",
    "\n",
    "mais_vendidos['tecnologia'] = 'ipad' # modificar\n",
    "\n",
    "del mais_vendidos ['tecnologia'] # deletar --> diferente do dicionario.clear() --> esse metodo limpa o dicionario, apagando todos os itens, mas o dicionario ainda existe\n",
    "tec_iphone = mais_vendidos.pop('tecnologia') # deletar mas armazenando em uma variavel\n"
   ]
  },
  {
   "cell_type": "code",
   "execution_count": 22,
   "metadata": {},
   "outputs": [
    {
     "name": "stdout",
     "output_type": "stream",
     "text": [
      "1123302\n"
     ]
    }
   ],
   "source": [
    "# uso do for\n",
    "# for chave in dicionario\n",
    "\n",
    "vendas_tecnologia = {'iphone 1': 15000,\n",
    "                     'samsung galaxy': 12000,\n",
    "                     'tv samsung': 10000,\n",
    "                     'iphone 2': 800000,\n",
    "                     'iphone 3': 308302\n",
    "                     }\n",
    "\n",
    "\n",
    "total_iphone = 0\n",
    "for chave in vendas_tecnologia:\n",
    "    if 'iphone' in chave:\n",
    "        total_iphone += vendas_tecnologia[chave]\n",
    "\n",
    "print(total_iphone)"
   ]
  },
  {
   "cell_type": "code",
   "execution_count": 36,
   "metadata": {},
   "outputs": [
    {
     "name": "stdout",
     "output_type": "stream",
     "text": [
      "dict_items([('iphone 1', 15000), ('samsung galaxy', 12000), ('tv samsung', 10000), ('iphone 2', 800000), ('iphone 3', 308302)])\n",
      "iphone 1 15000\n",
      "samsung galaxy 12000\n",
      "tv samsung 10000\n",
      "iphone 2 800000\n",
      "iphone 3 308302\n",
      "['iphone 1', 'samsung galaxy', 'tv samsung', 'iphone 2', 'iphone 3']\n",
      "[15000, 12000, 10000, 800000, 308302]\n"
     ]
    }
   ],
   "source": [
    "# metodo items --> pega todos os itens do dicionario individualmente, transforma dicionario em uma lista de tuplas\n",
    "vendas_tecnologia = {'iphone 1': 15000,\n",
    "                     'samsung galaxy': 12000,\n",
    "                     'tv samsung': 10000,\n",
    "                     'iphone 2': 800000,\n",
    "                     'iphone 3': 308302\n",
    "                     }\n",
    "\n",
    "itens = vendas_tecnologia.items()\n",
    "print(itens)\n",
    "\n",
    "for produto, preço in vendas_tecnologia.items():\n",
    "    print(produto, preço)\n",
    "    \n",
    "# metodo keys --> faz lista com todas as chaves\n",
    "chaves = vendas_tecnologia.keys()\n",
    "print(list(chaves))\n",
    "\n",
    "# metodo values --> faz uma lista com todos os valores\n",
    "valores = vendas_tecnologia.values()\n",
    "print(list(valores))\n"
   ]
  },
  {
   "cell_type": "code",
   "execution_count": 40,
   "metadata": {},
   "outputs": [
    {
     "name": "stdout",
     "output_type": "stream",
     "text": [
      "{'iphone 1': 0, 'samsung galaxy': 0, 'tv samsung': 0, 'iphone 2': 0}\n",
      "{'iphone 1': 48348, 'samsung galaxy': 49884, 'tv samsung': 8469, 'iphone 2': 8709}\n"
     ]
    }
   ],
   "source": [
    "# para transformar listas em dicionario\n",
    "\n",
    "produtos = ['iphone 1', 'samsung galaxy', 'tv samsung', 'iphone 2']\n",
    "precos = [48348, 49884, 8469, 8709, 1908]\n",
    "\n",
    "dicionario = dict.fromkeys(produtos, 0) # valor fixo que se repete para todos as chaves\n",
    "print(dicionario)\n",
    "\n",
    "# para tuplas:\n",
    "# primeiro tem que transformar as listas em tuplas e depois:\n",
    "# dicionario = dict(lista_tuplas)\n",
    "\n",
    "lista_tuplas = zip(produtos, precos)\n",
    "dicionario_vendass = dict(lista_tuplas)    \n",
    "print(dicionario_vendass)\n",
    "\n",
    "\n"
   ]
  }
 ],
 "metadata": {
  "kernelspec": {
   "display_name": "Python 3",
   "language": "python",
   "name": "python3"
  },
  "language_info": {
   "codemirror_mode": {
    "name": "ipython",
    "version": 3
   },
   "file_extension": ".py",
   "mimetype": "text/x-python",
   "name": "python",
   "nbconvert_exporter": "python",
   "pygments_lexer": "ipython3",
   "version": "3.12.4"
  }
 },
 "nbformat": 4,
 "nbformat_minor": 2
}
