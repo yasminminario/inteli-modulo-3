{
 "cells": [
  {
   "cell_type": "code",
   "execution_count": 11,
   "metadata": {},
   "outputs": [
    {
     "name": "stdout",
     "output_type": "stream",
     "text": [
      "{'mean': [1.0, 3.0, 4.0], 'variance': [0.0, 6.0, 6.666666666666667], 'standard deviation': [0.0, 2.449489742783178, 2.581988897471611], 'max': [1, 6, 8], 'min': [1, 0, 0], 'sum': [1, 9, 36]}\n"
     ]
    }
   ],
   "source": [
    "import numpy as np\n",
    "\n",
    "list = [0,1,2,3,4,5,6,7,8]\n",
    "\n",
    "def calculate(list):\n",
    "    array_3x3 = np.array(list).reshape(3, 3)\n",
    "    \n",
    "    axis1 = array_3x3[0, :].mean()\n",
    "    axis2 = array_3x3[:, 0]\n",
    "    flattened = array_3x3.flatten()\n",
    "\n",
    "    mean1 = float(axis1.mean())\n",
    "    mean2 = float(axis2.mean())\n",
    "    fmean = float(flattened.mean())\n",
    "\n",
    "    var1 = float(axis1.var())\n",
    "    var2 = float(axis2.var())\n",
    "    fvar = float(flattened.var())\n",
    "\n",
    "    std1 = float(axis1.std())\n",
    "    std2 = float(axis2.std())\n",
    "    fstd = float(flattened.std())\n",
    "\n",
    "    max1 = int(axis1.max())\n",
    "    max2 = int(axis2.max())\n",
    "    fmax = int(flattened.max())\n",
    "\n",
    "    min1 = int(axis1.min())\n",
    "    min2 = int(axis2.min())\n",
    "    fmin = int(flattened.min())\n",
    "\n",
    "    sum1 = int(axis1.sum())\n",
    "    sum2 = int(axis2.sum())\n",
    "    fsum = int(flattened.sum())\n",
    "\n",
    "    calculations = {\n",
    "        'mean': [mean1, mean2, fmean],\n",
    "        'variance': [var1, var2, fvar],\n",
    "        'standard deviation': [std1, std2, fstd],\n",
    "        'max': [max1, max2, fmax],\n",
    "        'min': [min1, min2, fmin],\n",
    "        'sum': [sum1, sum2, fsum]\n",
    "    }\n",
    "\n",
    "    return calculations\n",
    "\n",
    "result = calculate(list)\n",
    "print(result)\n"
   ]
  }
 ],
 "metadata": {
  "kernelspec": {
   "display_name": "Python 3",
   "language": "python",
   "name": "python3"
  },
  "language_info": {
   "codemirror_mode": {
    "name": "ipython",
    "version": 3
   },
   "file_extension": ".py",
   "mimetype": "text/x-python",
   "name": "python",
   "nbconvert_exporter": "python",
   "pygments_lexer": "ipython3",
   "version": "3.12.5"
  }
 },
 "nbformat": 4,
 "nbformat_minor": 2
}
