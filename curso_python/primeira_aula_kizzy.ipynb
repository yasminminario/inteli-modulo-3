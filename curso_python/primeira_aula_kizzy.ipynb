{
 "cells": [
  {
   "cell_type": "code",
   "execution_count": 4,
   "metadata": {},
   "outputs": [
    {
     "name": "stdout",
     "output_type": "stream",
     "text": [
      "[0, 1, 4, 9, 16, 25, 36, 49, 64, 81]\n"
     ]
    }
   ],
   "source": [
    "# sem compreensão de listas\n",
    "lista = [item**2 for item in range(10)]\n",
    "print(lista)\n",
    "\n",
    "# com compreensão de listas\n",
    "lista = []\n",
    "for item in range(10):\n",
    "    lista.append(item**2)\n",
    "print(lista)    \n",
    "\n",
    "\n",
    "# para listas que já possui elementos:\n",
    "# o método sem compreensão de listas pode ser usado diretamente já que ele substitui os elementos\n",
    "# o método com compreensão de listas teria que ter uma lista auxiliar vazia"
   ]
  },
  {
   "cell_type": "code",
   "execution_count": 17,
   "metadata": {},
   "outputs": [
    {
     "name": "stdout",
     "output_type": "stream",
     "text": [
      "Super Mario 64 DS\n",
      "['Super Mario 64 DS', {'Handheld?': True, 'Max Players': 1, 'Multiplatform?': True, 'Online?': True}, {'Genres': 'Action', 'Licensed?': True, 'Publishers': 'Nintendo', 'Sequel?': True}, {'Review Score': 85, 'Sales': 4.69, 'Used Price': 24.95}, {'Console': 'Nintendo DS', 'Rating': 'E', 'Re-release?': True, 'Year': 2004}, {'All PlayStyles': {'Average': 22.716666666666665, 'Leisure': 31.9, 'Median': 24.483333333333334, 'Polled': 57, 'Rushed': 14.3}, 'Completionists': {'Average': 29.766666666666666, 'Leisure': 35.03333333333333, 'Median': 30.0, 'Polled': 20, 'Rushed': 22.016666666666666}, 'Main + Extras': {'Average': 24.916666666666668, 'Leisure': 29.966666666666665, 'Median': 25.0, 'Polled': 16, 'Rushed': 18.333333333333332}, 'Main Story': {'Average': 14.333333333333334, 'Leisure': 18.316666666666666, 'Median': 14.5, 'Polled': 21, 'Rushed': 9.7}}]\n",
      "('Super Mario 64 DS', {'Handheld?': True, 'Max Players': 1, 'Multiplatform?': True, 'Online?': True}, {'Genres': 'Action', 'Licensed?': True, 'Publishers': 'Nintendo', 'Sequel?': True}, {'Review Score': 85, 'Sales': 4.69, 'Used Price': 24.95}, {'Console': 'Nintendo DS', 'Rating': 'E', 'Re-release?': True, 'Year': 2004}, {'All PlayStyles': {'Average': 22.716666666666665, 'Leisure': 31.9, 'Median': 24.483333333333334, 'Polled': 57, 'Rushed': 14.3}, 'Completionists': {'Average': 29.766666666666666, 'Leisure': 35.03333333333333, 'Median': 30.0, 'Polled': 20, 'Rushed': 22.016666666666666}, 'Main + Extras': {'Average': 24.916666666666668, 'Leisure': 29.966666666666665, 'Median': 25.0, 'Polled': 16, 'Rushed': 18.333333333333332}, 'Main Story': {'Average': 14.333333333333334, 'Leisure': 18.316666666666666, 'Median': 14.5, 'Polled': 21, 'Rushed': 9.7}})\n",
      "{dict_values(['Super Mario 64 DS', {'Handheld?': True, 'Max Players': 1, 'Multiplatform?': True, 'Online?': True}, {'Genres': 'Action', 'Licensed?': True, 'Publishers': 'Nintendo', 'Sequel?': True}, {'Review Score': 85, 'Sales': 4.69, 'Used Price': 24.95}, {'Console': 'Nintendo DS', 'Rating': 'E', 'Re-release?': True, 'Year': 2004}, {'All PlayStyles': {'Average': 22.716666666666665, 'Leisure': 31.9, 'Median': 24.483333333333334, 'Polled': 57, 'Rushed': 14.3}, 'Completionists': {'Average': 29.766666666666666, 'Leisure': 35.03333333333333, 'Median': 30.0, 'Polled': 20, 'Rushed': 22.016666666666666}, 'Main + Extras': {'Average': 24.916666666666668, 'Leisure': 29.966666666666665, 'Median': 25.0, 'Polled': 16, 'Rushed': 18.333333333333332}, 'Main Story': {'Average': 14.333333333333334, 'Leisure': 18.316666666666666, 'Median': 14.5, 'Polled': 21, 'Rushed': 9.7}}])}\n",
      "{'Title': 'Super Mario 64 DS', 'Features': {'Handheld?': True, 'Max Players': 1, 'Multiplatform?': True, 'Online?': True}, 'Metadata': {'Genres': 'Action', 'Licensed?': True, 'Publishers': 'Nintendo', 'Sequel?': True}, 'Metrics': {'Review Score': 85, 'Sales': 4.69, 'Used Price': 24.95}, 'Release': {'Console': 'Nintendo DS', 'Rating': 'E', 'Re-release?': True, 'Year': 2004}, 'Length': {'All PlayStyles': {'Average': 22.716666666666665, 'Leisure': 31.9, 'Median': 24.483333333333334, 'Polled': 57, 'Rushed': 14.3}, 'Completionists': {'Average': 29.766666666666666, 'Leisure': 35.03333333333333, 'Median': 30.0, 'Polled': 20, 'Rushed': 22.016666666666666}, 'Main + Extras': {'Average': 24.916666666666668, 'Leisure': 29.966666666666665, 'Median': 25.0, 'Polled': 16, 'Rushed': 18.333333333333332}, 'Main Story': {'Average': 14.333333333333334, 'Leisure': 18.316666666666666, 'Median': 14.5, 'Polled': 21, 'Rushed': 9.7}}}\n"
     ]
    }
   ],
   "source": [
    "import json\n",
    "\n",
    "f = open(r\"C:\\Users\\Inteli\\Downloads\\video_games.json\")\n",
    "data = json.load (f)\n",
    "\n",
    "print(data[0]['Title'])\n",
    "\n",
    "lista = list(data[0].values())\n",
    "tupla = tuple(data[0].values())\n",
    "conjunto = set([data[0].values()]) # conjunto só aceita os valores\n",
    "dicionario = dict(data[0])\n",
    "\n",
    "print(lista)\n",
    "print(tupla)\n",
    "print(conjunto)\n",
    "print(dicionario)"
   ]
  }
 ],
 "metadata": {
  "kernelspec": {
   "display_name": "Python 3",
   "language": "python",
   "name": "python3"
  },
  "language_info": {
   "codemirror_mode": {
    "name": "ipython",
    "version": 3
   },
   "file_extension": ".py",
   "mimetype": "text/x-python",
   "name": "python",
   "nbconvert_exporter": "python",
   "pygments_lexer": "ipython3",
   "version": "3.12.4"
  }
 },
 "nbformat": 4,
 "nbformat_minor": 2
}
