{
 "cells": [
  {
   "cell_type": "code",
   "execution_count": 37,
   "metadata": {},
   "outputs": [
    {
     "name": "stdout",
     "output_type": "stream",
     "text": [
      "0\n",
      "1\n",
      "2\n",
      "3\n",
      "4\n",
      "5\n",
      "6\n",
      "7\n",
      "8\n",
      "9\n",
      "0\n",
      "1\n",
      "2\n",
      "3\n",
      "4\n",
      "['coca', 'pepsi', 'guarana', 'sprite', 'fanta']\n",
      "['coca', 'pepsi', 'guarana', 'sprite', 'fanta']\n",
      "['coca', 'pepsi', 'guarana', 'sprite', 'fanta']\n",
      "['coca', 'pepsi', 'guarana', 'sprite', 'fanta']\n",
      "['coca', 'pepsi', 'guarana', 'sprite', 'fanta']\n",
      "200 unidades de coca\n",
      "300 unidades de pepsi\n",
      "500 unidades de guarana\n",
      "1000 unidades de sprite\n",
      "100 unidades de fanta\n",
      "coca 200\n",
      "pepsi 300\n",
      "guarana 500\n",
      "sprite 1000\n",
      "fanta 100\n"
     ]
    }
   ],
   "source": [
    "# range\n",
    "produtos = ['coca', 'pepsi', 'guarana', 'sprite', 'fanta']\n",
    "qtd = [200, 300, 500, 1000, 100]\n",
    "\n",
    "for i in range(10):\n",
    "    print(i)\n",
    "\n",
    "for i in range(len(produtos)):\n",
    "    print(i)\n",
    "        \n",
    "for i in range(5):\n",
    "    print(produtos)    \n",
    "    \n",
    "for i in range (len(produtos)):\n",
    "    print('{} unidades de {}'.format(qtd[i], produtos[i]))  \n",
    "    \n",
    "for i in range(len(produtos)):\n",
    "    produto = produtos[i]\n",
    "    qtde = qtd[i]\n",
    "    print(produto, qtde)           "
   ]
  },
  {
   "cell_type": "code",
   "execution_count": 12,
   "metadata": {},
   "outputs": [
    {
     "name": "stdout",
     "output_type": "stream",
     "text": [
      "coca\n",
      "pepsi\n",
      "guarana\n",
      "sprite\n",
      "fanta\n",
      "y\n",
      "a\n",
      "y\n",
      "a\n",
      " \n",
      "é\n",
      " \n",
      "l\n",
      "i\n",
      "n\n",
      "d\n",
      "a\n",
      " \n",
      "d\n",
      "e\n",
      "m\n",
      "i\n",
      "s\n",
      "e\n",
      "e\n",
      "e\n"
     ]
    }
   ],
   "source": [
    "# for item in lista\n",
    "\n",
    "for produto in produtos:\n",
    "    print(produto)  \n",
    "\n",
    "texto = 'yaya é linda demiseee' \n",
    "\n",
    "for caractere in texto:\n",
    "    print(caractere)     \n"
   ]
  },
  {
   "cell_type": "code",
   "execution_count": 32,
   "metadata": {},
   "outputs": [
    {
     "name": "stdout",
     "output_type": "stream",
     "text": [
      "o percentual de funcionários q bateu a meta é 85.7%\n"
     ]
    }
   ],
   "source": [
    "# for + if\n",
    "\n",
    "vendas = [1200, 3000, 4059, 600, 9950, 3085, 4549]\n",
    "meta = 1000\n",
    "\n",
    "qtd_funcionarios_bateu_meta = 0 \n",
    "for venda in vendas:\n",
    "    if venda >= 1000:\n",
    "        qtd_funcionarios_bateu_meta += 1\n",
    "\n",
    "print('o percentual de funcionários q bateu a meta é {:.1%}'.format(qtd_funcionarios_bateu_meta / len(vendas)))        "
   ]
  },
  {
   "cell_type": "code",
   "execution_count": 1,
   "metadata": {},
   "outputs": [
    {
     "name": "stdout",
     "output_type": "stream",
     "text": [
      "0 joao\n",
      "1 jose\n",
      "2 maria\n",
      "3 clara\n",
      "4 roberta\n",
      "5 marcos\n",
      "pao\n",
      "salgado\n",
      "batata\n",
      "carne\n"
     ]
    }
   ],
   "source": [
    "# enumerate\n",
    "# for i, item in enumerate(lista)\n",
    "\n",
    "funcionarios = ['joao', 'jose', 'maria', 'clara', 'roberta', 'marcos']\n",
    "\n",
    "for i, funcionario in enumerate(funcionarios):\n",
    "    print(i, funcionario)\n",
    "\n",
    "###\n",
    "    \n",
    "estoque = [1000, 2039, 294, 3848, 93, 3, 3, 7, 8]    \n",
    "produtes = ['coca', 'refri', 'fanta', 'bolo', 'macarrao', 'pao', 'salgado', 'batata', 'carne']\n",
    "nivel_minimo_estoque = 50\n",
    "\n",
    "for i, qtd in enumerate(estoque):\n",
    "    if qtd < 50:\n",
    "        print(produtes[i])\n",
    "        \n"
   ]
  },
  {
   "cell_type": "code",
   "execution_count": 15,
   "metadata": {},
   "outputs": [
    {
     "name": "stdout",
     "output_type": "stream",
     "text": [
      "['julinha fabrica', 'eçooki fabrica', 'thaly fabrica', 'saikik fabrica']\n"
     ]
    }
   ],
   "source": [
    "# for dentro de for\n",
    "\n",
    "#for item in lista:\n",
    "    #for item2 in lista2:\n",
    "    \n",
    "    \n",
    "estoque = [[934, 934, 1399],\n",
    "          [90239, 304, 484], \n",
    "          [394, 4834, 1384],\n",
    "          [8439, 38, 8923],\n",
    "          [84, 2983, 380]]    \n",
    "fabricas = ['yaya fabrica', 'julinha fabrica', 'eçooki fabrica', 'thaly fabrica', 'saikik fabrica']\n",
    "nivel_min = 800\n",
    "\n",
    "fabricas_abaixo = []\n",
    "\n",
    "for i, lista in enumerate (estoque):\n",
    "    for qtde in lista:\n",
    "        if qtde < nivel_min:\n",
    "            if fabricas[i] in fabricas_abaixo:\n",
    "                pass\n",
    "            else:\n",
    "                fabricas_abaixo.append(fabricas[i])\n",
    "                \n",
    "print(fabricas_abaixo)"
   ]
  }
 ],
 "metadata": {
  "kernelspec": {
   "display_name": "Python 3",
   "language": "python",
   "name": "python3"
  },
  "language_info": {
   "codemirror_mode": {
    "name": "ipython",
    "version": 3
   },
   "file_extension": ".py",
   "mimetype": "text/x-python",
   "name": "python",
   "nbconvert_exporter": "python",
   "pygments_lexer": "ipython3",
   "version": "3.12.5"
  }
 },
 "nbformat": 4,
 "nbformat_minor": 2
}
