{
 "cells": [
  {
   "cell_type": "code",
   "execution_count": 1,
   "metadata": {},
   "outputs": [],
   "source": [
    "# tupla é quase o mesmo de lista, porém é imutável e frequentemente tem dados hetergoneos"
   ]
  },
  {
   "cell_type": "code",
   "execution_count": 5,
   "metadata": {},
   "outputs": [
    {
     "name": "stdout",
     "output_type": "stream",
     "text": [
      "yaya\n"
     ]
    }
   ],
   "source": [
    "# unpack\n",
    "\n",
    "vendas = ('yaya', 840, 'hoje')\n",
    "\n",
    "nome, salario, data = vendas\n",
    "print(nome)"
   ]
  },
  {
   "cell_type": "code",
   "execution_count": 1,
   "metadata": {},
   "outputs": [],
   "source": [
    "# lista de tuplas\n",
    "\n",
    "lista = [\n",
    "    ('celular', 890, '02/02/2022', 'ricardo'),\n",
    "    ('computador', 1890, '03/02/2022', 'larissa'),\n",
    "    ('ipad', 1090, '03/02/2022', 'ricardo')    \n",
    "]\n",
    "\n"
   ]
  }
 ],
 "metadata": {
  "kernelspec": {
   "display_name": "Python 3",
   "language": "python",
   "name": "python3"
  },
  "language_info": {
   "codemirror_mode": {
    "name": "ipython",
    "version": 3
   },
   "file_extension": ".py",
   "mimetype": "text/x-python",
   "name": "python",
   "nbconvert_exporter": "python",
   "pygments_lexer": "ipython3",
   "version": "3.12.5"
  }
 },
 "nbformat": 4,
 "nbformat_minor": 2
}
